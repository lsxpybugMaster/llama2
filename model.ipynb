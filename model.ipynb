{
 "cells": [
  {
   "cell_type": "markdown",
   "id": "3fe67504",
   "metadata": {},
   "source": [
    "### 全局配置"
   ]
  },
  {
   "cell_type": "code",
   "execution_count": 1,
   "id": "b95bd710",
   "metadata": {},
   "outputs": [],
   "source": [
    "from dataclasses import dataclass\n",
    "from typing import Optional\n",
    "import math\n",
    "import torch\n",
    "import torch.nn as nn\n",
    "import torch.nn.functional as F\n",
    "\n",
    "# 全局配置类\n",
    "@dataclass\n",
    "class ModelArgs:\n",
    "    dim: int = 4096  # llama嵌入维度为4096\n",
    "    n_layers: int = 32\n",
    "    n_heads: int = 32 # Q的头数\n",
    "    n_kv_heads: Optional[int] = None # K,V的头数 使用Group Multiple Query\n",
    "    vocab_size: int = -1\n",
    "    multiple_of: int = 256\n",
    "    ffn_dim_multiplier: Optional[float] = None\n",
    "    norm_eps: float = 1e-5\n",
    "\n",
    "    # KV cache变量\n",
    "    max_batch_size: int = 32\n",
    "    max_seq_len: int = 2048\n",
    "\n",
    "    device: str = None"
   ]
  },
  {
   "cell_type": "markdown",
   "id": "22954e07",
   "metadata": {},
   "source": [
    "### 总体模型结构\n",
    "<img src=\"imgs/arch.PNG\" alt=\"model arch\" style=\"width:30%; height:auto;\" />"
   ]
  },
  {
   "cell_type": "code",
   "execution_count": 2,
   "id": "d8de37c3",
   "metadata": {},
   "outputs": [],
   "source": [
    "class Transformer(nn.Module):\n",
    "\n",
    "    def __init__(self,args: ModelArgs):\n",
    "        super().__init__()\n",
    "\n",
    "        assert args.vocab_size != -1, \"未设置词表大小\"\n",
    "\n",
    "        self.args = args\n",
    "        self.vocab_size = args.vocab_size\n",
    "        self.n_layers = args.n_layers\n",
    "        # 嵌入层\n",
    "        self.tok_embeddings = nn.Embedding(self.vocab_size,args.dim)\n",
    "\n",
    "        # N层堆叠的encoder块\n",
    "        self.layers = nn.ModuleList()\n",
    "        for layer_id in range(args.n_layers):\n",
    "            self.layers.append(EncoderBlock(args))\n",
    "\n",
    "        self.norm = RMSNorm(args.dim,eps = args.norm_eps)\n",
    "        \n",
    "        self.output = nn.Linear(args.dim, self.vocab_size, bias=False)\n",
    "\n",
    "        # RoPE位置编码\n",
    "        self.freqs_complex = precompute_theta_pos_frequencies(\n",
    "            self.args.dim // self.args.n_heads,\n",
    "            self.args.max_seq_len * 2,\n",
    "            device = self.args.device\n",
    "        )\n",
    "\n",
    "    def forward(self, tokens: torch.Tensor, start_pos: int):\n",
    "        # KV-cache仅限推理!\n",
    "\n",
    "        # (B, Seq_len)\n",
    "        batch_size, seq_len = tokens.shape\n",
    "        assert seq_len == 1, \"KV缓存,Q仅为每次更新的一个token 一次处理一个token!\"\n",
    "\n",
    "        # (B, Seq_len) -> (B, Seq_len , Dim)\n",
    "        h = self.tok_embeddings(tokens)\n",
    "\n",
    "        # RoPE编码\n",
    "        freq_complex = self.freqs_complex[start_pos:start_pos + seq_len]\n",
    "\n",
    "        for layer in self.layers:\n",
    "            h = layer(h,start_pos,freq_complex)\n",
    "        \n",
    "        # RMSNorm\n",
    "        h = self.norm(h)\n",
    "\n",
    "        # Linear\n",
    "        output = self.output(h).float()\n",
    "\n",
    "        # Softmax 在 loss 中\n",
    "        return output\n",
    "\n"
   ]
  }
 ],
 "metadata": {
  "kernelspec": {
   "display_name": "Python 3",
   "language": "python",
   "name": "python3"
  },
  "language_info": {
   "codemirror_mode": {
    "name": "ipython",
    "version": 3
   },
   "file_extension": ".py",
   "mimetype": "text/x-python",
   "name": "python",
   "nbconvert_exporter": "python",
   "pygments_lexer": "ipython3",
   "version": "3.9.0"
  }
 },
 "nbformat": 4,
 "nbformat_minor": 5
}
